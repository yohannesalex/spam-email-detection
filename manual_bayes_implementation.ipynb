{
 "cells": [
  {
   "cell_type": "markdown",
   "metadata": {},
   "source": [
    "# Bayesian Spam Email Classifier \n"
   ]
  },
  {
   "cell_type": "markdown",
   "metadata": {},
   "source": [
    "### Introduction\n",
    "This project uses Bayesian classification to detect spam emails based on the SMS Spam Collection Dataset from UCI. By leveraging probabilities derived from the data, the model classifies messages as either \"spam\" or \"ham\" (not spam).\n",
    "\n"
   ]
  },
  {
   "cell_type": "markdown",
   "metadata": {},
   "source": [
    "### Dataset\n",
    "The dataset used is a text file with two columns:\n",
    "- label: Indicates whether the message is \"spam\" or \"ham.\"\n",
    "- message: The content of the SMS message.\n"
   ]
  },
  {
   "cell_type": "markdown",
   "metadata": {},
   "source": [
    "### Some of the Imports\n",
    "- stopwords: To remove common words that don't add much meaning (e.g., \"the\", \"and\").\n",
    "- word_tokenize: To split text into individual words (tokenization).\n",
    "- WordNetLemmatizer: To reduce words to their base forms (lemmatization).\n",
    "- train_test_split (from sklearn.model_selection): For splitting data into training and testing sets.\n",
    "\n",
    "\n",
    "\n",
    "\n",
    "\n"
   ]
  },
  {
   "cell_type": "code",
   "execution_count": 3,
   "metadata": {},
   "outputs": [],
   "source": [
    "# Import necessary libraries\n",
    "from sklearn.metrics import confusion_matrix, classification_report\n",
    "import seaborn as sns\n",
    "import matplotlib.pyplot as plt\n",
    "import pandas as pd\n",
    "import numpy as np\n",
    "import re\n",
    "import csv\n",
    "import nltk\n",
    "from nltk.corpus import stopwords\n",
    "from nltk.tokenize import word_tokenize\n",
    "from nltk.stem import WordNetLemmatizer\n",
    "from math import log\n",
    "from sklearn.model_selection import train_test_split"
   ]
  },
  {
   "cell_type": "markdown",
   "metadata": {},
   "source": [
    "Convert the dataset into a usable format (CSV).\n"
   ]
  },
  {
   "cell_type": "code",
   "execution_count": 4,
   "metadata": {},
   "outputs": [
    {
     "name": "stdout",
     "output_type": "stream",
     "text": [
      "Data has been successfully converted to ./data/data.csv\n"
     ]
    }
   ],
   "source": [
    "\n",
    "\n",
    "input_file_path = './data/SMSSpamCollection.txt'\n",
    "output_file_path = './data/data.csv'\n",
    "\n",
    "with open(input_file_path, 'r') as txt_file:\n",
    "    lines = txt_file.readlines()\n",
    "\n",
    "processed_data = []\n",
    "for line in lines:\n",
    "    label, message = line.strip().split('\\t', 1)  # Only split at the first tab\n",
    "    processed_data.append([label, message])\n",
    "\n",
    "with open(output_file_path, 'w', newline='') as csv_file:\n",
    "    writer = csv.writer(csv_file)\n",
    "    writer.writerow(['label', 'message'])\n",
    "    writer.writerows(processed_data)\n",
    "\n",
    "print(f\"Data has been successfully converted to {output_file_path}\")\n"
   ]
  },
  {
   "cell_type": "markdown",
   "metadata": {},
   "source": [
    "### Preprocessing Steps\n",
    "### 1. Binary Labeling:\n",
    "Map the label column:\n",
    "- \"spam\" → 1\n",
    "- \"ham\" → 0\n",
    "\n"
   ]
  },
  {
   "cell_type": "code",
   "execution_count": 5,
   "metadata": {},
   "outputs": [
    {
     "data": {
      "text/html": [
       "<div>\n",
       "<style scoped>\n",
       "    .dataframe tbody tr th:only-of-type {\n",
       "        vertical-align: middle;\n",
       "    }\n",
       "\n",
       "    .dataframe tbody tr th {\n",
       "        vertical-align: top;\n",
       "    }\n",
       "\n",
       "    .dataframe thead th {\n",
       "        text-align: right;\n",
       "    }\n",
       "</style>\n",
       "<table border=\"1\" class=\"dataframe\">\n",
       "  <thead>\n",
       "    <tr style=\"text-align: right;\">\n",
       "      <th></th>\n",
       "      <th>label</th>\n",
       "      <th>message</th>\n",
       "      <th>binary_label</th>\n",
       "    </tr>\n",
       "  </thead>\n",
       "  <tbody>\n",
       "    <tr>\n",
       "      <th>0</th>\n",
       "      <td>ham</td>\n",
       "      <td>Go until jurong point, crazy.. Available only ...</td>\n",
       "      <td>0</td>\n",
       "    </tr>\n",
       "    <tr>\n",
       "      <th>1</th>\n",
       "      <td>ham</td>\n",
       "      <td>Ok lar... Joking wif u oni...</td>\n",
       "      <td>0</td>\n",
       "    </tr>\n",
       "    <tr>\n",
       "      <th>2</th>\n",
       "      <td>spam</td>\n",
       "      <td>Free entry in 2 a wkly comp to win FA Cup fina...</td>\n",
       "      <td>1</td>\n",
       "    </tr>\n",
       "    <tr>\n",
       "      <th>3</th>\n",
       "      <td>ham</td>\n",
       "      <td>U dun say so early hor... U c already then say...</td>\n",
       "      <td>0</td>\n",
       "    </tr>\n",
       "    <tr>\n",
       "      <th>4</th>\n",
       "      <td>ham</td>\n",
       "      <td>Nah I don't think he goes to usf, he lives aro...</td>\n",
       "      <td>0</td>\n",
       "    </tr>\n",
       "  </tbody>\n",
       "</table>\n",
       "</div>"
      ],
      "text/plain": [
       "  label                                            message  binary_label\n",
       "0   ham  Go until jurong point, crazy.. Available only ...             0\n",
       "1   ham                      Ok lar... Joking wif u oni...             0\n",
       "2  spam  Free entry in 2 a wkly comp to win FA Cup fina...             1\n",
       "3   ham  U dun say so early hor... U c already then say...             0\n",
       "4   ham  Nah I don't think he goes to usf, he lives aro...             0"
      ]
     },
     "execution_count": 5,
     "metadata": {},
     "output_type": "execute_result"
    }
   ],
   "source": [
    "df = pd.read_csv(\"./data/data.csv\", encoding=\"latin-1\")\n",
    "df.columns = ['label', 'message']\n",
    "\n",
    "# Convert labels to numerical values\n",
    "df['binary_label'] = df['label'].map({'ham': 0, 'spam': 1})\n",
    "\n",
    "# Display first few rows\n",
    "df.head()\n"
   ]
  },
  {
   "cell_type": "markdown",
   "metadata": {},
   "source": [
    "#### download the necessary NLTK datasets for stopwords, tokenization, and word lemmatization.\n",
    "\n",
    "\n",
    "\n",
    "\n",
    "\n",
    "\n"
   ]
  },
  {
   "cell_type": "code",
   "execution_count": 6,
   "metadata": {},
   "outputs": [
    {
     "name": "stderr",
     "output_type": "stream",
     "text": [
      "[nltk_data] Downloading package stopwords to\n",
      "[nltk_data]     C:\\Users\\Home\\AppData\\Roaming\\nltk_data...\n",
      "[nltk_data]   Package stopwords is already up-to-date!\n",
      "[nltk_data] Downloading package punkt_tab to\n",
      "[nltk_data]     C:\\Users\\Home\\AppData\\Roaming\\nltk_data...\n",
      "[nltk_data]   Package punkt_tab is already up-to-date!\n",
      "[nltk_data] Downloading package wordnet to\n",
      "[nltk_data]     C:\\Users\\Home\\AppData\\Roaming\\nltk_data...\n",
      "[nltk_data]   Package wordnet is already up-to-date!\n"
     ]
    },
    {
     "data": {
      "text/plain": [
       "True"
      ]
     },
     "execution_count": 6,
     "metadata": {},
     "output_type": "execute_result"
    }
   ],
   "source": [
    "nltk.download('stopwords')\n",
    "nltk.download('punkt_tab')  \n",
    "nltk.download('wordnet')"
   ]
  },
  {
   "cell_type": "markdown",
   "metadata": {},
   "source": [
    "### 2.Tokenization and Data cleaning:\n",
    "- Split messages into individual words for word-frequency analysis using the NLTK library.\n",
    "- Remove unnecessary characters, stop words, and special symbols from the text.\n",
    "- convert each word to their dictionary format (This is for not to analyse different forms of the same word many times)"
   ]
  },
  {
   "cell_type": "code",
   "execution_count": 7,
   "metadata": {},
   "outputs": [
    {
     "data": {
      "text/html": [
       "<div>\n",
       "<style scoped>\n",
       "    .dataframe tbody tr th:only-of-type {\n",
       "        vertical-align: middle;\n",
       "    }\n",
       "\n",
       "    .dataframe tbody tr th {\n",
       "        vertical-align: top;\n",
       "    }\n",
       "\n",
       "    .dataframe thead th {\n",
       "        text-align: right;\n",
       "    }\n",
       "</style>\n",
       "<table border=\"1\" class=\"dataframe\">\n",
       "  <thead>\n",
       "    <tr style=\"text-align: right;\">\n",
       "      <th></th>\n",
       "      <th>label</th>\n",
       "      <th>message</th>\n",
       "      <th>binary_label</th>\n",
       "      <th>processed</th>\n",
       "    </tr>\n",
       "  </thead>\n",
       "  <tbody>\n",
       "    <tr>\n",
       "      <th>0</th>\n",
       "      <td>ham</td>\n",
       "      <td>Go until jurong point, crazy.. Available only ...</td>\n",
       "      <td>0</td>\n",
       "      <td>[go, jurong, point, crazy, available, bugis, n...</td>\n",
       "    </tr>\n",
       "    <tr>\n",
       "      <th>1</th>\n",
       "      <td>ham</td>\n",
       "      <td>Ok lar... Joking wif u oni...</td>\n",
       "      <td>0</td>\n",
       "      <td>[ok, lar, joking, wif, u, oni]</td>\n",
       "    </tr>\n",
       "    <tr>\n",
       "      <th>2</th>\n",
       "      <td>spam</td>\n",
       "      <td>Free entry in 2 a wkly comp to win FA Cup fina...</td>\n",
       "      <td>1</td>\n",
       "      <td>[free, entry, 2, wkly, comp, win, fa, cup, fin...</td>\n",
       "    </tr>\n",
       "    <tr>\n",
       "      <th>3</th>\n",
       "      <td>ham</td>\n",
       "      <td>U dun say so early hor... U c already then say...</td>\n",
       "      <td>0</td>\n",
       "      <td>[u, dun, say, early, hor, u, c, already, say]</td>\n",
       "    </tr>\n",
       "    <tr>\n",
       "      <th>4</th>\n",
       "      <td>ham</td>\n",
       "      <td>Nah I don't think he goes to usf, he lives aro...</td>\n",
       "      <td>0</td>\n",
       "      <td>[nah, think, go, usf, life, around, though]</td>\n",
       "    </tr>\n",
       "  </tbody>\n",
       "</table>\n",
       "</div>"
      ],
      "text/plain": [
       "  label                                            message  binary_label  \\\n",
       "0   ham  Go until jurong point, crazy.. Available only ...             0   \n",
       "1   ham                      Ok lar... Joking wif u oni...             0   \n",
       "2  spam  Free entry in 2 a wkly comp to win FA Cup fina...             1   \n",
       "3   ham  U dun say so early hor... U c already then say...             0   \n",
       "4   ham  Nah I don't think he goes to usf, he lives aro...             0   \n",
       "\n",
       "                                           processed  \n",
       "0  [go, jurong, point, crazy, available, bugis, n...  \n",
       "1                     [ok, lar, joking, wif, u, oni]  \n",
       "2  [free, entry, 2, wkly, comp, win, fa, cup, fin...  \n",
       "3      [u, dun, say, early, hor, u, c, already, say]  \n",
       "4        [nah, think, go, usf, life, around, though]  "
      ]
     },
     "execution_count": 7,
     "metadata": {},
     "output_type": "execute_result"
    }
   ],
   "source": [
    "# Preprocess function\n",
    "def preprocess(text):\n",
    "    lemmatizer = WordNetLemmatizer()\n",
    "    stop_words = set(stopwords.words('english'))\n",
    "    words = nltk.word_tokenize(text.lower())\n",
    "    words = [lemmatizer.lemmatize(word) for word in words if word.isalnum() and word not in stop_words]\n",
    "    return words\n",
    "\n",
    "\n",
    "# Apply preprocessing\n",
    "df['processed'] = df['message'].apply(preprocess)\n",
    "df.head()\n"
   ]
  },
  {
   "cell_type": "markdown",
   "metadata": {},
   "source": [
    "# Probabilities\n",
    "### Bayes' Theorem\n",
    "- The spam detection system uses Bayes' theorem:\n",
    "- 𝑃(spam∣words)=𝑃(words∣spam)⋅𝑃(spam)/𝑃(words)\n",
    "\n",
    "​\n",
    " \n",
    "\n"
   ]
  },
  {
   "cell_type": "markdown",
   "metadata": {},
   "source": [
    "### 1, Prior Probability:\n",
    "Calculated the prior probability of spam and ham message\n",
    "- The **prior probability** represents the initial belief about the probability of an email being spam or not before observing any features (e.g., specific words).\n",
    "\n",
    "    - **Spam Prior**:  \n",
    "  P(Spam) = {Number of spam emails} / {Total number of emails}\n",
    "  \n",
    "\n",
    "    - **Ham Prior**:  \n",
    "  P(Ham) = {Number of ham emails} / {Total number of emails}\n",
    "\n",
    "\n"
   ]
  },
  {
   "cell_type": "code",
   "execution_count": 8,
   "metadata": {},
   "outputs": [
    {
     "name": "stdout",
     "output_type": "stream",
     "text": [
      "P(spam): 0.13, P(ham): 0.87\n"
     ]
    }
   ],
   "source": [
    "# Calculate priors\n",
    "total_messages = len(df)\n",
    "spam_messages = df['binary_label'].sum()\n",
    "ham_messages = total_messages - spam_messages\n",
    "\n",
    "P_spam = spam_messages / total_messages\n",
    "P_ham = ham_messages / total_messages\n",
    "\n",
    "print(f\"P(spam): {P_spam:.2f}, P(ham): {P_ham:.2f}\")\n"
   ]
  },
  {
   "cell_type": "markdown",
   "metadata": {},
   "source": [
    "### 2. likelihood \n",
    "- P(word∣spam): Probability of a specific word given the message is spam.\n",
    "    - P(word∣Spam)= Count of word w in spam emails+1 / (Total number of words in spam emails+Vocabulary size)\n",
    "- P(word∣ham): Probability of a specific word given the message is ham.\n",
    "    - P(word∣ham)= Count of word w in ham emails+1 / (Total number of words in ham emails+Vocabulary size)\n",
    "    \n",
    "- Split Messages: Separates words into spam_words and ham_words based on the binary_label (1 for spam, 0 for ham).\n",
    "- Frequency Distribution: Counts occurrences of each word in spam and ham messages (spam_word_count, ham_word_count).\n",
    "- Total Word Counts: Calculates total words in spam and ham messages.\n",
    "- Unique Words: Finds unique words across both spam and ham, determining vocabulary_size.\n",
    "- Likelihood Calculation: Uses Laplace smoothing to compute \n",
    "- Laplace smoothing\n",
    "    - is a technique used to handle zero probabilities in probabilistic models like Naive Bayes. It adds a small constant (typically 1) to the count of each word to ensure no probability is zero, even for words not seen in the training data.\n",
    "    The formula for Laplace smoothing is:\n",
    "        P(word∣label)=(count(word)+1) / (total words in label+vocabulary size)\n",
    "    - This approach prevents the model from assigning a probability of zero to unseen words, making the model more robust and generalizable.\n",
    "\n",
    "\n",
    "\n",
    "\n",
    "\n",
    "\n",
    "\n",
    "\n",
    "\n",
    "\n",
    "\n",
    "\n"
   ]
  },
  {
   "cell_type": "code",
   "execution_count": 10,
   "metadata": {},
   "outputs": [
    {
     "name": "stdout",
     "output_type": "stream",
     "text": [
      "P('free'|spam): 0.0115\n",
      "P('free'|ham): 0.0013\n"
     ]
    }
   ],
   "source": [
    "# Split into spam and ham messages\n",
    "spam_words = []\n",
    "ham_words = []\n",
    "\n",
    "for _, row in df.iterrows():\n",
    "    if row['binary_label'] == 1:\n",
    "        spam_words.extend(row['processed'])\n",
    "    else:\n",
    "        ham_words.extend(row['processed'])\n",
    "\n",
    "# Create frequency distributions\n",
    "spam_word_count = pd.Series(spam_words).value_counts()\n",
    "ham_word_count = pd.Series(ham_words).value_counts()\n",
    "# Total word counts\n",
    "total_spam_words = sum(spam_word_count)\n",
    "total_ham_words = sum(ham_word_count)\n",
    "\n",
    "# Unique words across spam and ham\n",
    "unique_words = set(spam_word_count.index).union(set(ham_word_count.index))\n",
    "vocabulary_size = len(unique_words)\n",
    "\n",
    "# Likelihood calculation with Laplace smoothing\n",
    "def calculate_likelihood(word, word_count, total_words):\n",
    "    return (word_count.get(word, 0) + 1) / (total_words + vocabulary_size)\n",
    "\n",
    "# Example for the word \"free\"\n",
    "print(f\"P('free'|spam): {calculate_likelihood('free', spam_word_count, total_spam_words):.4f}\")\n",
    "print(f\"P('free'|ham): {calculate_likelihood('free', ham_word_count, total_ham_words):.4f}\")\n"
   ]
  },
  {
   "cell_type": "markdown",
   "metadata": {},
   "source": [
    "### 3. Posterior Probability\n",
    "\n",
    "\n",
    "\n",
    "The **posterior probability** is calculated using Bayes' Theorem:\n",
    "\n",
    "$$\n",
    "P(\\text{Spam | Email}) = \\frac{P(\\text{Spam}) \\cdot P(\\text{Email | Spam})}{P(\\text{Email})}\n",
    "$$\n",
    "\n",
    "For a given email, let \\( w_1, w_2, \\dots, w_n \\) represent the words in the email. The posterior probability can be expressed as:\n",
    "\n",
    "$$\n",
    "P(\\text{Spam | Email}) \\propto P(\\text{Spam}) \\cdot P(w_1 | \\text{Spam}) \\cdot P(w_2 | \\text{Spam}) \\cdot \\dots \\cdot P(w_n | \\text{Spam})\n",
    "$$\n",
    "\n",
    "Similarly, the posterior probability for non-spam (ham) is:\n",
    "\n",
    "$$\n",
    "P(\\text{Ham | Email}) \\propto P(\\text{Ham}) \\cdot P(w_1 | \\text{Ham}) \\cdot P(w_2 | \\text{Ham}) \\cdot \\dots \\cdot P(w_n | \\text{Ham})\n",
    "$$\n",
    "\n",
    "### Decision Rule\n",
    "\n",
    "The classification decision is based on comparing the posterior probabilities:\n",
    "\n",
    "- Classify as **Spam** if:\n",
    "  $$\n",
    "  P(\\text{Spam | Email}) > P(\\text{Ham | Email})\n",
    "  $$\n",
    "- Otherwise, classify as **Ham**.\n",
    "\n",
    "\n",
    "\n",
    "### after preprocessing \n",
    "- For each word in the email, the log likelihoods of the word given spam and ham are added to spam_prob and ham_prob.\n",
    "- The email is classified as spam (1) if spam_prob is greater than ham_prob, otherwise it's classified as ham (0).\n",
    "#### why do i use logarithim?\n",
    "1.  Preventing Underflow:\n",
    "Probabilities are often very small, especially when multiplying many of them together (as in Naive Bayes).\n",
    "Multiplying many small probabilities can lead to underflow, where the result is too small for the computer to represent accurately.\n",
    "Logarithms convert multiplication of probabilities into addition, which avoids this issue.\n",
    "2. Simplifies Multiplication:\n",
    "Instead of multiplying probabilities, we add their logarithms:\n",
    "log(a×b)=log(a)+log(b)\n",
    "This makes the computations more stable and easier to handle, especially for large datasets.\n",
    "3. Better Numerical Stability:\n",
    "Logarithmic operations are less sensitive to numerical precision issues compared to directly working with very small probabilities.\n",
    "4. Efficient Calculation:\n",
    "Adding numbers (logarithms of probabilities) is computationally more efficient than multiplying a long chain of small numbers.\n",
    "\n"
   ]
  },
  {
   "cell_type": "code",
   "execution_count": 11,
   "metadata": {},
   "outputs": [],
   "source": [
    "# Predict function\n",
    "def predict(email):\n",
    "    words = preprocess(email)\n",
    "    spam_prob = log(P_spam)\n",
    "    ham_prob = log(P_ham)\n",
    "    \n",
    "    for word in words:\n",
    "        spam_prob += log(calculate_likelihood(word, spam_word_count, total_spam_words))\n",
    "        ham_prob += log(calculate_likelihood(word, ham_word_count, total_ham_words))\n",
    "    \n",
    "    return 1 if spam_prob >= ham_prob else 0 \n"
   ]
  },
  {
   "cell_type": "markdown",
   "metadata": {},
   "source": [
    "- splits the dataset into 80% training and 20% testing data.\n",
    "- The predict function is applied to each message in the test_data to generate predictions.\n",
    "- Compares the predicted labels with the actual binary_label in test_data.\n",
    "- Calculates the proportion of correct predictions and prints the accuracy percentage.\n"
   ]
  },
  {
   "cell_type": "code",
   "execution_count": 12,
   "metadata": {},
   "outputs": [
    {
     "name": "stdout",
     "output_type": "stream",
     "text": [
      "Accuracy: 98.83%\n"
     ]
    }
   ],
   "source": [
    "# Split data\n",
    "train_data, test_data = train_test_split(df, test_size=0.2, random_state=42)\n",
    "\n",
    "# Evaluate the classifier\n",
    "test_data['prediction'] = test_data['message'].apply(predict)\n",
    "accuracy = (test_data['prediction'] == test_data['binary_label']).mean()\n",
    "print(f\"Accuracy: {accuracy * 100:.2f}%\")\n"
   ]
  },
  {
   "cell_type": "markdown",
   "metadata": {},
   "source": [
    "### As We can see the model has almost 99% accuracy"
   ]
  },
  {
   "cell_type": "markdown",
   "metadata": {},
   "source": [
    "### 4. Classify an email as spam or not based on the computed posterior probabilities."
   ]
  },
  {
   "cell_type": "code",
   "execution_count": 13,
   "metadata": {},
   "outputs": [
    {
     "name": "stdout",
     "output_type": "stream",
     "text": [
      "Spam\n",
      "Spam\n",
      "Spam\n",
      "Ham\n",
      "Ham\n",
      "Ham\n",
      "Ham\n"
     ]
    }
   ],
   "source": [
    "messages = [\"Congratulations! You've won a $1,000 gift card. Click here to claim your prize now!\",\n",
    "\"URGENT: Your account has been compromised. Please verify your details immediately by clicking this link.\",\n",
    "\"Get a loan with no credit check! Apply now and receive up to $10,000 instantly!\",\n",
    "\"Hey, are we still meeting for coffee tomorrow at 10 AM?\",\n",
    "\"Don't forget about the team meeting on Monday. Let me know if you need anything prepared.\",\n",
    "\"Can you send me the notes from yesterday's class? I missed a few key points.\",\n",
    "\"Happy Birthday! Hope you have a fantastic day filled with joy and laughter.\"\n",
    "]\n",
    "for message in messages:\n",
    "    result = predict(message)\n",
    "    if result == 1:\n",
    "        print(\"Spam\")\n",
    "    else:\n",
    "        print(\"Ham\")"
   ]
  },
  {
   "cell_type": "code",
   "execution_count": 16,
   "metadata": {},
   "outputs": [
    {
     "data": {
      "image/png": "[encoded data removed]",
      "text/plain": [
       "<Figure size 800x600 with 2 Axes>"
      ]
     },
     "metadata": {},
     "output_type": "display_data"
    },
    {
     "name": "stdout",
     "output_type": "stream",
     "text": [
      "              precision    recall  f1-score   support\n",
      "\n",
      "         Ham       0.99      0.99      0.99       954\n",
      "        Spam       0.96      0.96      0.96       161\n",
      "\n",
      "    accuracy                           0.99      1115\n",
      "   macro avg       0.98      0.98      0.98      1115\n",
      "weighted avg       0.99      0.99      0.99      1115\n",
      "\n"
     ]
    }
   ],
   "source": [
    "# Convert string labels to binary (0 for ham, 1 for spam)\n",
    "test_data['binary_label'] = test_data['label'].map({'ham': 0, 'spam': 1})\n",
    "test_data['prediction'] = test_data['message'].apply(predict)\n",
    "\n",
    "# Calculate confusion matrix with binary labels\n",
    "cm = confusion_matrix(test_data['binary_label'], test_data['prediction'])\n",
    "plt.figure(figsize=(8, 6))\n",
    "sns.heatmap(cm, annot=True, fmt='d', cmap='Blues', xticklabels=['Ham', 'Spam'], yticklabels=['Ham', 'Spam'])\n",
    "plt.xlabel('Predicted Labels')\n",
    "plt.ylabel('True Labels')\n",
    "plt.title('Confusion Matrix')\n",
    "plt.show()\n",
    "\n",
    "#classification report for detailed metrics\n",
    "report = classification_report(test_data['binary_label'], test_data['prediction'], target_names=['Ham', 'Spam'])\n",
    "print(report)\n"
   ]
  },
  {
   "cell_type": "markdown",
   "metadata": {},
   "source": [
    "# Understanding the Confusion Matrix\n",
    "\n",
    "The confusion matrix has the following layout:\n",
    "\n",
    "| True Label \\ Predicted Label | Ham               | Spam              |\n",
    "|-----------------------------|-------------------|-------------------|\n",
    "| **Ham**                     | True Negatives (TN) | False Positives (FP) |\n",
    "| **Spam**                    | False Negatives (FN) | True Positives (TP) |\n",
    "\n",
    "### Explanation of Terms:\n",
    "\n",
    "- **True Negatives (TN)**: Non-spam emails correctly classified as non-spam.\n",
    "- **False Positives (FP)**: Non-spam emails incorrectly classified as spam.\n",
    "- **False Negatives (FN)**: Spam emails incorrectly classified as non-spam.\n",
    "- **True Positives (TP)**: Spam emails correctly classified as spam.\n"
   ]
  },
  {
   "cell_type": "markdown",
   "metadata": {},
   "source": [
    "# Classification Report\n",
    "\n",
    "The classification report gives the precision, recall, and f1-score for each class, as well as their averages.\n",
    "\n",
    "| Class  | Precision | Recall | F1-Score | Support |\n",
    "|--------|-----------|--------|----------|---------|\n",
    "| **Ham**| 0.99      | 0.99   | 0.99     | 954     |\n",
    "| **Spam**| 0.96     | 0.96   | 0.96     | 161     |\n",
    "\n",
    "**Accuracy**: 0.99 (99% of predictions were correct)\n",
    "\n",
    "### Averages:\n",
    "\n",
    "- **Macro Average**: \n",
    "    - Precision: 0.98\n",
    "    - Recall: 0.98\n",
    "    - F1-Score: 0.98\n",
    "\n",
    "- **Weighted Average**: \n",
    "    - Precision: 0.99\n",
    "    - Recall: 0.99\n",
    "    - F1-Score: 0.99\n",
    "\n",
    "### Explanation:\n",
    "- **Precision**: The proportion of positive predictions that are actually correct.\n",
    "    - For \"Ham\", 99% of the emails predicted as \"Ham\" were truly \"Ham\".\n",
    "    - For \"Spam\", 96% of the emails predicted as \"Spam\" were truly \"Spam\".\n",
    "  \n",
    "- **Recall**: The proportion of actual positive cases that were correctly identified.\n",
    "    - For \"Ham\", 99% of the true \"Ham\" emails were correctly classified.\n",
    "    - For \"Spam\", 96% of the true \"Spam\" emails were correctly classified.\n",
    "  \n",
    "- **F1-Score**: The harmonic mean of precision and recall, providing a balanced metric.\n",
    "    - Both for \"Ham\" and \"Spam\", the F1-scores are very high, indicating a good balance between precision and recall.\n",
    "\n",
    "- **Support**: The number of occurrences of each class in the dataset.\n",
    "    - There are 954 \"Ham\" messages and 161 \"Spam\" messages in the dataset.\n",
    "\n",
    "The accuracy and weighted averages reflect the high performance of the spam classifier, especially for the \"Ham\" category, but also with a slight trade-off in precision/recall for \"Spam\".\n"
   ]
  }
 ],
 "metadata": {
  "kernelspec": {
   "display_name": "Python 3",
   "language": "python",
   "name": "python3"
  },
  "language_info": {
   "codemirror_mode": {
    "name": "ipython",
    "version": 3
   },
   "file_extension": ".py",
   "mimetype": "text/x-python",
   "name": "python",
   "nbconvert_exporter": "python",
   "pygments_lexer": "ipython3",
   "version": "3.11.9"
  }
 },
 "nbformat": 4,
 "nbformat_minor": 2
}
